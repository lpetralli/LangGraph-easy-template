{
 "cells": [
  {
   "cell_type": "code",
   "execution_count": 1,
   "metadata": {},
   "outputs": [],
   "source": [
    "from agent import Agent\n",
    "\n",
    "agent = Agent(model_type=\"groq\", prompt=\"Be a helpful assistant\", tools=None)"
   ]
  },
  {
   "cell_type": "code",
   "execution_count": 2,
   "metadata": {},
   "outputs": [
    {
     "data": {
      "image/jpeg": "[encoded data removed]",
      "text/plain": [
       "<IPython.core.display.Image object>"
      ]
     },
     "metadata": {},
     "output_type": "display_data"
    }
   ],
   "source": [
    "from IPython.display import Image, display\n",
    "\n",
    "try:\n",
    "    display(Image(agent.graph.get_graph().draw_mermaid_png()))\n",
    "except Exception:\n",
    "    # This requires some extra dependencies and is optional\n",
    "    pass"
   ]
  },
  {
   "cell_type": "code",
   "execution_count": 3,
   "metadata": {},
   "outputs": [
    {
     "data": {
      "text/plain": [
       "[HumanMessage(content='What is the capital of the moon?', id='2bb2bb91-821b-439c-98f8-4b6db936df52'),\n",
       " AIMessage(content=\"There is no capital city on the moon. The moon is a natural satellite that orbits the Earth, and it does not have a government or a permanent human settlement. While there have been several manned missions to the moon as part of NASA's Apollo program, no city or settlement has been established on the moon.\\n\\nHowever, there are plans to return humans to the moon in the near future, with NASA's Artemis program aiming to establish a sustainable presence on the lunar surface by the 2020s. But for now, there is no capital city on the moon.\", response_metadata={'token_usage': {'completion_tokens': 115, 'prompt_tokens': 47, 'total_tokens': 162, 'completion_time': 0.153333333, 'prompt_time': 0.011953406, 'queue_time': 0.6820622220000001, 'total_time': 0.165286739}, 'model_name': 'llama-3.1-8b-instant', 'system_fingerprint': 'fp_9cb648b966', 'finish_reason': 'stop', 'logprobs': None}, id='run-88b24ea3-6e3a-4fac-81ae-514fec9b6523-0', usage_metadata={'input_tokens': 47, 'output_tokens': 115, 'total_tokens': 162})]"
      ]
     },
     "execution_count": 3,
     "metadata": {},
     "output_type": "execute_result"
    }
   ],
   "source": [
    "agent.invoke([{\"role\": \"user\", \"content\": \"What is the capital of the moon?\"}])"
   ]
  }
 ],
 "metadata": {
  "kernelspec": {
   "display_name": "easy-lang-env",
   "language": "python",
   "name": "python3"
  },
  "language_info": {
   "codemirror_mode": {
    "name": "ipython",
    "version": 3
   },
   "file_extension": ".py",
   "mimetype": "text/x-python",
   "name": "python",
   "nbconvert_exporter": "python",
   "pygments_lexer": "ipython3",
   "version": "3.11.0"
  }
 },
 "nbformat": 4,
 "nbformat_minor": 2
}
