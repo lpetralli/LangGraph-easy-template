{
 "cells": [
  {
   "cell_type": "code",
   "execution_count": 1,
   "metadata": {},
   "outputs": [],
   "source": [
    "import os\n",
    "from langchain_community.document_loaders import PyPDFLoader\n",
    "from langchain.text_splitter import RecursiveCharacterTextSplitter\n",
    "from langchain_openai import OpenAIEmbeddings\n",
    "\n",
    "# Define the path to your PDF files\n",
    "pdf_dir = \"./docs\"  # Cambia esto al directorio donde tienes tus PDFs\n",
    "\n",
    "# Load PDF documents\n",
    "pdf_files = [os.path.join(pdf_dir, file) for file in os.listdir(pdf_dir) if file.endswith(\".pdf\")]\n",
    "docs = [PyPDFLoader(pdf).load() for pdf in pdf_files]\n",
    "\n",
    "# Convert list of lists to a single list of documents\n",
    "docs_list = [item for sublist in docs for item in sublist]"
   ]
  },
  {
   "cell_type": "code",
   "execution_count": 2,
   "metadata": {},
   "outputs": [
    {
     "data": {
      "text/plain": [
       "[Document(metadata={'source': './docs/Politica Atencion Cliente.pdf', 'page': 0}, page_content='Política de Atención al Cliente - T echnoV erde\\nS.A.\\n1. Introducción\\nT echnoV erde S.A. es una empresa líder en soluciones tecnológicas sostenibles\\npara hogares y empresas. Nuestro compromiso con la excelencia en el servicio\\nal cliente es fundamental para nuestra misión de crear un futuro más verde\\ny eficiente. Esta política establece los principios y procedimientos que guían\\nnuestras interacciones con los clientes, asegurando una experiencia excepcional\\nen cada punto de contacto.\\n2. Objetivos\\n• Proporcionar un servicio al cliente de clase mundial que supere las expec-\\ntativas.\\n• Resolver las inquietudes y problemas de los clientes de manera eficiente y\\nefectiva.\\n• F omentar la lealtad del cliente a través de interacciones positivas y solu-\\nciones personalizadas.\\n• Mantener una comunicación clara y transparente en todos los canales de\\natención.\\n3. Canales de Atención al Cliente\\nT echnoV erde S.A. ofrece múltiples canales para garantizar una comunicación\\nfluida y accesible:\\n• Línea telefónica gratuita: 0800-TECNO-VERDE (disponible 24/7)\\n• Correo electrónico: soporte@technoverde.com\\n• Chat en vivo en nuestro sitio web: www.technoverde.com\\n• Redes sociales: @T echnoV erdeOficial (F acebook, T witter, Instagram)\\n• Atención presencial en nuestras tiendas (horario: Lunes a Sábado, 9:00 -\\n20:00)\\n4. Principios de Atención al Cliente\\n4.1 Empatía y Respeto\\nNuestros representantes se comprometen a tratar a cada cliente con empatía,\\nrespeto y consideración, independientemente de la naturaleza de su consulta o\\nproblema.\\n4.2 Rapidez y Eficiencia\\nNos esforzamos por resolver las consultas y problemas de los clientes en el primer\\ncontacto siempre que sea posible. Establecemos los siguientes tiempos de re-\\n1'),\n",
       " Document(metadata={'source': './docs/Politica Atencion Cliente.pdf', 'page': 1}, page_content='spuesta objetivo: - Llamadas telefónicas: Respuesta en menos de 3 minutos -\\nCorreos electrónicos: Respuesta inicial en menos de 4 horas hábiles - Chat en\\nvivo: Respuesta inicial en menos de 1 minuto\\n4.3 Personalización\\nReconocemos que cada cliente es único. Nuestro enfoque se adapta a las necesi-\\ndades específicas de cada individuo o empresa.\\n4.4 T ransparencia\\nMantenemos una comunicación clara y honesta sobre nuestros productos, servi-\\ncios, políticas y procesos.\\n5. Gestión de Consultas y Reclamos\\n5.1 Proceso de Escalamiento\\nEstablecemos un proceso de escalamiento claro para garantizar que las consultas\\ncomplejas o los reclamos sean atendidos por el personal adecuado: 1. Nivel 1:\\nRepresentante de Atención al Cliente 2. Nivel 2: Supervisor de Equipo 3. Nivel\\n3: Gerente de Experiencia del Cliente 4. Nivel 4: Director de Operaciones\\n5.2 Seguimiento de Casos\\nCada consulta o reclamo recibe un número de caso único para su seguimiento.\\nLos clientes pueden verificar el estado de su caso en cualquier momento a través\\nde nuestro portal en línea.\\n5.3 Resolución de Reclamos\\nNos comprometemos a resolver todos los reclamos en un plazo máximo de 5 días\\nhábiles. Si se requiere más tiempo, mantendremos al cliente informado sobre el\\nprogreso.\\n6. Política de Reembolsos y Devoluciones\\n6.1 Período de Devolución\\nLos clientes pueden devolver productos no utilizados dentro de los 30 días pos-\\nteriores a la compra para obtener un reembolso completo o un cambio.\\n6.2 Condiciones de Reembolso\\n• El producto debe estar en su embalaje original y en condiciones de reventa.\\n• Se debe presentar el recibo de compra original.\\n• Los costos de envío no son reembolsables, excepto en casos de productos\\ndefectuosos.\\n2'),\n",
       " Document(metadata={'source': './docs/Politica Atencion Cliente.pdf', 'page': 2}, page_content='6.3 Productos Defectuosos\\nLos productos defectuosos pueden ser devueltos o cambiados dentro de los 90\\ndías posteriores a la compra. T echnoV erde S.A. cubrirá todos los costos asocia-\\ndos con la devolución y el reemplazo de productos defectuosos.\\n7. Garantía y Soporte Técnico\\n7.1 Cobertura de Garantía\\nT odos los productos T echnoV erde están cubiertos por una garantía mínima de 2\\naños. Algunos productos premium tienen garantías extendidas de hasta 5 años.\\n7.2 Soporte Técnico\\nOfrecemos soporte técnico gratuito durante toda la vida útil del producto. Nue-\\nstro equipo de expertos está disponible para: - Resolver problemas técnicos -\\nProporcionar orientación sobre la instalación y el uso - Ofrecer consejos para\\noptimizar el rendimiento del producto\\n7.3 Actualizaciones de Software\\nProporcionamos actualizaciones de software gratuitas para todos nuestros pro-\\nductos conectados, garantizando que los clientes siempre tengan acceso a las\\núltimas funciones y mejoras de seguridad.\\n8. Programa de Lealtad T echnoV erde\\n8.1 Inscripción\\nT odos los clientes son automáticamente inscritos en nuestro programa de lealtad\\nal realizar su primera compra.\\n8.2 Beneficios\\n• Puntos por cada compra (1 punto por cada $10 gastados)\\n• Acceso anticipado a nuevos productos\\n• Invitaciones a eventos exclusivos de T echnoV erde\\n• Descuentos especiales en el mes de cumpleaños del cliente\\n8.3 Niveles de Membresía\\n• V erde: 0-999 puntos\\n• Plata: 1,000-4,999 puntos\\n• Oro: 5,000-9,999 puntos\\n• Platino: 10,000+ puntos\\nCada nivel ofrece beneficios adicionales, como envío gratuito, atención priori-\\ntaria y regalos sorpresa.\\n3'),\n",
       " Document(metadata={'source': './docs/Politica Atencion Cliente.pdf', 'page': 3}, page_content='9. Protección de Datos y Privacidad\\n9.1 Recopilación de Datos\\nSolo recopilamos los datos necesarios para proporcionar nuestros servicios y\\nmejorar la experiencia del cliente. Informamos claramente a los clientes sobre\\nqué datos se recopilan y cómo se utilizan.\\n9.2 Almacenamiento y Seguridad\\nT odos los datos de los clientes se almacenan de forma segura en servidores\\nencriptados. Implementamos medidas de seguridad de vanguardia para proteger\\nla información contra accesos no autorizados.\\n9.3 Derechos del Cliente\\nLos clientes tienen derecho a: - Acceder a sus datos personales - Solicitar cor-\\nrecciones de información inexacta - Solicitar la eliminación de sus datos (sujeto\\na requisitos legales)\\n10. F ormación y Desarrollo del Personal\\n10.1 Programa de F ormación Inicial\\nT odos los nuevos empleados de atención al cliente reciben un programa de forma-\\nción intensivo de 4 semanas que cubre: - Conocimiento profundo de productos\\ny servicios - Habilidades de comunicación y resolución de problemas - Políticas\\ny procedimientos de la empresa - Uso de sistemas y herramientas de atención\\nal cliente\\n10.2 F ormación Continua\\nOfrecemos programas de formación mensuales para mantener a nuestro personal\\nactualizado sobre: - Nuevos productos y servicios - Mejoras en los procesos de\\natención al cliente - T endencias en tecnología sostenible\\n10.3 Evaluación y F eedback\\nRealizamos evaluaciones trimestrales de desempeño para cada miembro del\\nequipo de atención al cliente, proporcionando feedback constructivo y oportu-\\nnidades de mejora.\\n11. Monitoreo y Mejora Continua\\n11.1 Encuestas de Satisfacción\\nEnviamos encuestas de satisfacción después de cada interacción con el servicio\\nal cliente. Los resultados se analizan semanalmente para identificar áreas de\\nmejora.\\n4'),\n",
       " Document(metadata={'source': './docs/Politica Atencion Cliente.pdf', 'page': 4}, page_content='11.2 Análisis de Datos\\nUtilizamos análisis avanzados para: - Identificar patrones en las consultas y\\nreclamos de los clientes - Medir tiempos de respuesta y resolución - Evaluar la\\neficacia de nuestras soluciones\\n11.3 Innovación en Servicio al Cliente\\nF omentamos la innovación dentro de nuestro equipo. Organizamos “hackathons”\\ntrimestrales donde los empleados pueden proponer y desarrollar nuevas ideas\\npara mejorar la experiencia del cliente.\\n12. Responsabilidad Social y Ambiental\\n12.1 Iniciativas Sostenibles\\nInvolucramos a nuestros clientes en iniciativas sostenibles, como: - Programas de\\nreciclaje de productos electrónicos - Campañas de plantación de árboles por cada\\nproducto vendido - T alleres educativos sobre tecnología verde y conservación de\\nenergía\\n12.2 Apoyo a la Comunidad\\nColaboramos con organizaciones locales para: - Proporcionar tecnología\\nsostenible a escuelas y centros comunitarios - Ofrecer formación tecnológica\\ngratuita a grupos desfavorecidos\\n13. Gestión de Crisis y Continuidad del Servicio\\n13.1 Plan de Continuidad del Negocio\\nMantenemos un plan detallado para garantizar la continuidad del servicio al\\ncliente en caso de: - Desastres naturales - F allos tecnológicos - Pandemias u\\notras crisis de salud pública\\n13.2 Comunicación de Crisis\\nEn situaciones de crisis, nos comprometemos a: - Informar a los clientes de\\nmanera proactiva sobre cualquier interrupción del servicio - Proporcionar ac-\\ntualizaciones regulares a través de todos nuestros canales de comunicación -\\nOfrecer soluciones alternativas cuando sea posible\\n14. Colaboración con Socios y Proveedores\\n14.1 Estándares de Servicio\\nExigimos que todos nuestros socios y proveedores adhieran a nuestros están-\\ndares de servicio al cliente. Realizamos auditorías periódicas para garantizar el\\ncumplimiento.\\n5'),\n",
       " Document(metadata={'source': './docs/Politica Atencion Cliente.pdf', 'page': 5}, page_content='14.2 Integración de Sistemas\\nT rabajamos en estrecha colaboración con nuestros socios para integrar sistemas\\ny procesos, asegurando una experiencia de cliente fluida en todos los puntos de\\ncontacto.\\n15. Adaptación a Nuevas T ecnologías\\n15.1 Inteligencia Artificial y Chatbots\\nImplementamos soluciones de IA para: - Proporcionar respuestas instantáneas a\\npreguntas frecuentes - Dirigir consultas complejas al representante humano más\\nadecuado - Analizar el sentimiento del cliente y adaptar nuestras respuestas en\\nconsecuencia\\n15.2 Realidad Aumentada (RA) para Soporte Técnico\\nUtilizamos tecnología de RA para: - Guiar a los clientes en la instalación y\\nresolución de problemas de productos - Proporcionar demostraciones virtuales\\nde productos\\n16. Accesibilidad e Inclusión\\n16.1 Diseño Universal\\nNos esforzamos por hacer que nuestros productos, servicios y canales de aten-\\nción al cliente sean accesibles para todos, incluyendo: - Sitio web y aplicaciones\\nmóviles compatibles con lectores de pantalla - Opciones de comunicación para\\nclientes con discapacidad auditiva o del habla - Materiales de soporte en múlti-\\nples idiomas y formatos\\n16.2 F ormación en Diversidad e Inclusión\\nT odo nuestro personal de atención al cliente recibe formación regular sobre\\ndiversidad e inclusión para garantizar un trato respetuoso y equitativo a todos\\nlos clientes.\\n17. Revisión y Actualización de la Política\\nEsta política de atención al cliente se revisa y actualiza anualmente para garan-\\ntizar que siga siendo relevante y efectiva. V aloramos los comentarios de nuestros\\nclientes y empleados en este proceso de revisión.\\nPara cualquier pregunta o comentario sobre esta política, por favor con-\\ntacte a nuestro Departamento de Experiencia del Cliente en experien-\\ncia@technoverde.com.\\nÚltima actualización: 1 de septiembre de 2024 V ersión: 3.2\\nT echnoV erde S.A. - Innovando para un futuro más verde\\n6')]"
      ]
     },
     "execution_count": 2,
     "metadata": {},
     "output_type": "execute_result"
    }
   ],
   "source": [
    "docs_list"
   ]
  },
  {
   "cell_type": "code",
   "execution_count": 3,
   "metadata": {},
   "outputs": [],
   "source": [
    "# Split documents into chunks\n",
    "text_splitter = RecursiveCharacterTextSplitter(chunk_size=200, chunk_overlap=100)\n",
    "doc_splits = text_splitter.split_documents(docs_list) "
   ]
  },
  {
   "cell_type": "code",
   "execution_count": 4,
   "metadata": {},
   "outputs": [
    {
     "data": {
      "text/plain": [
       "105"
      ]
     },
     "execution_count": 4,
     "metadata": {},
     "output_type": "execute_result"
    }
   ],
   "source": [
    "len(doc_splits)"
   ]
  },
  {
   "cell_type": "code",
   "execution_count": 5,
   "metadata": {},
   "outputs": [],
   "source": [
    "from langchain_community.vectorstores import Chroma\n",
    "\n",
    "# Define el directorio donde se almacenará la base de datos\n",
    "persist_directory = \"./chroma_db\"  # Puedes cambiar esto al directorio que prefieras\n",
    "\n",
    "# Crear la base de datos de vectores local\n",
    "vectorstore = Chroma.from_documents(\n",
    "    documents=doc_splits,\n",
    "    collection_name=\"rag-chroma\",\n",
    "    embedding=OpenAIEmbeddings(),\n",
    "    persist_directory=persist_directory  # Especifica el directorio de persistencia\n",
    ")\n",
    "\n",
    "# # Cargar la base de datos de vectores desde el directorio local\n",
    "# vectorstore = Chroma(\n",
    "#     collection_name=\"rag-chroma\",\n",
    "#     embedding=OpenAIEmbeddings(),\n",
    "#     persist_directory=persist_directory  # Especifica el directorio de persistencia\n",
    "# )"
   ]
  },
  {
   "cell_type": "code",
   "execution_count": 6,
   "metadata": {},
   "outputs": [],
   "source": [
    "retriever = vectorstore.as_retriever()\n",
    "\n",
    "from langchain.tools.retriever import create_retriever_tool\n",
    "\n",
    "retriever_tool = create_retriever_tool(\n",
    "    retriever,\n",
    "    \"retrieve_company_docs\",\n",
    "    \"Search and return information about the company documents\",\n",
    ")"
   ]
  },
  {
   "cell_type": "code",
   "execution_count": 8,
   "metadata": {},
   "outputs": [
    {
     "data": {
      "text/plain": [
       "[Document(metadata={'page': 0, 'source': './docs/Politica Atencion Cliente.pdf'}, page_content='S.A.\\n1. Introducción\\nT echnoV erde S.A. es una empresa líder en soluciones tecnológicas sostenibles\\npara hogares y empresas. Nuestro compromiso con la excelencia en el servicio'),\n",
       " Document(metadata={'page': 0, 'source': './docs/Politica Atencion Cliente.pdf'}, page_content='para hogares y empresas. Nuestro compromiso con la excelencia en el servicio\\nal cliente es fundamental para nuestra misión de crear un futuro más verde'),\n",
       " Document(metadata={'page': 0, 'source': './docs/Politica Atencion Cliente.pdf'}, page_content='Política de Atención al Cliente - T echnoV erde\\nS.A.\\n1. Introducción\\nT echnoV erde S.A. es una empresa líder en soluciones tecnológicas sostenibles'),\n",
       " Document(metadata={'page': 3, 'source': './docs/Politica Atencion Cliente.pdf'}, page_content='T odos los nuevos empleados de atención al cliente reciben un programa de forma-\\nción intensivo de 4 semanas que cubre: - Conocimiento profundo de productos')]"
      ]
     },
     "execution_count": 8,
     "metadata": {},
     "output_type": "execute_result"
    }
   ],
   "source": [
    "question = \"Como se llama la empresa?\"\n",
    "documents = retriever.invoke(question)\n",
    "documents"
   ]
  },
  {
   "cell_type": "code",
   "execution_count": 10,
   "metadata": {},
   "outputs": [],
   "source": [
    "# Cargar la base de datos de vectores desde el directorio local\n",
    "persist_directory = \"./chroma_db\"\n",
    "vectorstore = Chroma(\n",
    "    collection_name=\"rag-chroma\",\n",
    "    persist_directory=persist_directory  # Especifica el directorio de persistencia\n",
    ")"
   ]
  }
 ],
 "metadata": {
  "kernelspec": {
   "display_name": "easy-lang-env",
   "language": "python",
   "name": "python3"
  },
  "language_info": {
   "codemirror_mode": {
    "name": "ipython",
    "version": 3
   },
   "file_extension": ".py",
   "mimetype": "text/x-python",
   "name": "python",
   "nbconvert_exporter": "python",
   "pygments_lexer": "ipython3",
   "version": "3.11.0"
  }
 },
 "nbformat": 4,
 "nbformat_minor": 2
}
