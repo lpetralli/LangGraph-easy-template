{
 "cells": [
  {
   "cell_type": "code",
   "execution_count": 1,
   "metadata": {},
   "outputs": [
    {
     "data": {
      "text/plain": [
       "True"
      ]
     },
     "execution_count": 1,
     "metadata": {},
     "output_type": "execute_result"
    }
   ],
   "source": [
    "from dotenv import load_dotenv\n",
    "\n",
    "load_dotenv()"
   ]
  },
  {
   "cell_type": "code",
   "execution_count": 2,
   "metadata": {},
   "outputs": [],
   "source": [
    "from agent import Agent\n",
    "from langchain_chroma import Chroma\n",
    "from tools import create_retriever_tool_from_vectorstore, create_get_client_info_tool\n",
    "from langchain_core.messages import HumanMessage\n",
    "from langchain_openai import OpenAIEmbeddings\n",
    "from langchain_core.messages import AIMessage\n",
    "persist_directory = \"./chroma_db\"\n",
    "vectorstore = Chroma(\n",
    "    collection_name=\"rag-chroma\",\n",
    "    embedding_function=OpenAIEmbeddings(),\n",
    "    persist_directory=persist_directory\n",
    ")\n",
    "\n",
    "tools = [create_retriever_tool_from_vectorstore(vectorstore), create_get_client_info_tool()]\n",
    "\n",
    "from langchain_core.prompts import ChatPromptTemplate\n",
    "\n",
    "template = ChatPromptTemplate([\n",
    "        (\"system\", \"Sos un asistente que responde preguntas sobre la empresa TechnoVerde S.A. Para preguntas relacionadas a la empresa, responde utilizando la informacion que tenes disponible sobre la misma, no inventes informacion. Si no conoces la respuesta, simplemente decí que no lo sabes y disculpate por no poder ayudar\"),\n",
    "    ])\n",
    "\n",
    "\n",
    "agent = Agent(model_type=\"openai\", prompt=template, tools=tools)"
   ]
  },
  {
   "cell_type": "code",
   "execution_count": null,
   "metadata": {},
   "outputs": [],
   "source": [
    "# from IPython.display import Image, display\n",
    "\n",
    "# try:\n",
    "#     display(Image(agent.graph.get_graph().draw_mermaid_png()))\n",
    "# except Exception:\n",
    "#     # This requires some extra dependencies and is optional\n",
    "#     pass"
   ]
  },
  {
   "cell_type": "code",
   "execution_count": 3,
   "metadata": {},
   "outputs": [
    {
     "data": {
      "text/plain": [
       "{'messages': [HumanMessage(content='Hola, necesito consultar mi información de cuenta. Mi número de cliente es TV001. ¿Me podrías ayudar?', id='768c0c42-da68-40c3-a534-0c5d9ad01e73'),\n",
       "  AIMessage(content='', additional_kwargs={'tool_calls': [{'id': 'call_xW8oReAKtsPp2ae9spWcn8rA', 'function': {'arguments': '{\"client_id\":\"TV001\"}', 'name': 'get_client_info'}, 'type': 'function'}], 'refusal': None}, response_metadata={'token_usage': {'completion_tokens': 17, 'prompt_tokens': 179, 'total_tokens': 196, 'completion_tokens_details': {'reasoning_tokens': 0}}, 'model_name': 'gpt-4o-2024-05-13', 'system_fingerprint': 'fp_25624ae3a5', 'finish_reason': 'tool_calls', 'logprobs': None}, id='run-01506528-f29d-4c95-89f2-4e08c7359e3f-0', tool_calls=[{'name': 'get_client_info', 'args': {'client_id': 'TV001'}, 'id': 'call_xW8oReAKtsPp2ae9spWcn8rA', 'type': 'tool_call'}], usage_metadata={'input_tokens': 179, 'output_tokens': 17, 'total_tokens': 196}),\n",
       "  ToolMessage(content='{\"name\": \"Mar\\\\u00eda Gonz\\\\u00e1lez\", \"email\": \"maria@ecohome.com\", \"account_balance\": 2500.0, \"installed_products\": [\"Solar Panels\", \"Smart Thermostat\"], \"sustainability_score\": 8.5}', name='get_client_info', id='992c5754-87ba-4546-9879-e1da008513f5', tool_call_id='call_xW8oReAKtsPp2ae9spWcn8rA'),\n",
       "  AIMessage(content='Claro, María. Aquí tienes la información de tu cuenta:\\n\\n- **Nombre:** María González\\n- **Correo electrónico:** maria@ecohome.com\\n- **Saldo de la cuenta:** $2500.00\\n- **Productos instalados:** Paneles Solares, Termostato Inteligente\\n- **Puntuación de sostenibilidad:** 8.5\\n\\nSi necesitas más información o asistencia adicional, no dudes en decírmelo.', additional_kwargs={'refusal': None}, response_metadata={'token_usage': {'completion_tokens': 93, 'prompt_tokens': 266, 'total_tokens': 359, 'completion_tokens_details': {'reasoning_tokens': 0}}, 'model_name': 'gpt-4o-2024-05-13', 'system_fingerprint': 'fp_25624ae3a5', 'finish_reason': 'stop', 'logprobs': None}, id='run-7b59c66b-4268-4a2b-9727-0073e2ad30f1-0', usage_metadata={'input_tokens': 266, 'output_tokens': 93, 'total_tokens': 359})]}"
      ]
     },
     "execution_count": 3,
     "metadata": {},
     "output_type": "execute_result"
    }
   ],
   "source": [
    "human_message = HumanMessage(content='Hola, necesito consultar mi información de cuenta. Mi número de cliente es TV001. ¿Me podrías ayudar?')\n",
    "agent.invoke([human_message])"
   ]
  }
 ],
 "metadata": {
  "kernelspec": {
   "display_name": "easy-lang-env",
   "language": "python",
   "name": "python3"
  },
  "language_info": {
   "codemirror_mode": {
    "name": "ipython",
    "version": 3
   },
   "file_extension": ".py",
   "mimetype": "text/x-python",
   "name": "python",
   "nbconvert_exporter": "python",
   "pygments_lexer": "ipython3",
   "version": "3.11.0"
  }
 },
 "nbformat": 4,
 "nbformat_minor": 2
}
