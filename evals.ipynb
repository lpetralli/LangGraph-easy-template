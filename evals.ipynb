{
 "cells": [
  {
   "cell_type": "markdown",
   "metadata": {},
   "source": [
    "### Evaluation TechnoVerde S.A."
   ]
  },
  {
   "cell_type": "markdown",
   "metadata": {},
   "source": [
    "Podemos evaluar diferentes partes de nuestro sistema:\n",
    "\n",
    "- Respuestas del agente\n",
    "- Llamado a herramientas\n",
    "- Utilidad del RAG\n",
    "- Etc.\n",
    "\n",
    "Y podemos utilizar diferentes tipos de evaluadores:\n",
    "\n",
    "- LLM as a judge evaluator\n",
    "- Programmatic evaluator"
   ]
  },
  {
   "cell_type": "code",
   "execution_count": null,
   "metadata": {},
   "outputs": [],
   "source": [
    "from langsmith import Client\n",
    "from langsmith.evaluation import evaluate\n",
    "from langsmith.schemas import Example, Run\n",
    "\n",
    "# Initialize LangSmith client\n",
    "client = Client()"
   ]
  },
  {
   "cell_type": "markdown",
   "metadata": {},
   "source": [
    "![Texto alternativo](https://docs.smith.langchain.com/assets/images/langsmith_summary-7d48643f3e4c50d77234e13feb95144d.png)"
   ]
  },
  {
   "cell_type": "markdown",
   "metadata": {},
   "source": [
    "### 1. Evaluando respuestas del agente y la utilidad del RAG (LLM as a judge)"
   ]
  },
  {
   "cell_type": "markdown",
   "metadata": {},
   "source": [
    "#### Dataset "
   ]
  },
  {
   "cell_type": "code",
   "execution_count": null,
   "metadata": {},
   "outputs": [],
   "source": [
    "dataset = client.create_dataset(\n",
    "    \"Atencion al cliente\",\n",
    "    description=\"Un dataset para evaluar las respuestas del agente en temas de atencion al cliente\"\n",
    ")"
   ]
  },
  {
   "cell_type": "code",
   "execution_count": null,
   "metadata": {},
   "outputs": [],
   "source": [
    "#Data sintetica creada con Claude 3.5 Sonnet\n",
    "\n",
    "client.create_examples(\n",
    "    inputs=[\n",
    "        {\"input\": \"¿Cuáles son los canales de atención al cliente que ofrece TechnoVerde?\"},\n",
    "        {\"input\": \"¿Cuál es el tiempo de respuesta objetivo para los correos electrónicos?\"},\n",
    "        {\"input\": \"¿Cuánto tiempo tengo para devolver un producto?\"},\n",
    "        {\"input\": \"¿Qué cubre la garantía de los productos TechnoVerde?\"},\n",
    "        {\"input\": \"¿Cómo funciona el programa de lealtad de TechnoVerde?\"},\n",
    "        {\"input\": \"¿Qué medidas toma TechnoVerde para proteger los datos de los clientes?\"},\n",
    "        {\"input\": \"¿Qué tipo de formación reciben los empleados de atención al cliente?\"},\n",
    "        {\"input\": \"¿Cómo maneja TechnoVerde las situaciones de crisis?\"},\n",
    "        {\"input\": \"¿Qué tecnologías innovadoras utiliza TechnoVerde en su atención al cliente?\"},\n",
    "        {\"input\": \"¿Cómo asegura TechnoVerde la accesibilidad en su atención al cliente?\"}\n",
    "    ],\n",
    "    outputs=[\n",
    "        {\"response\": \"TechnoVerde S.A. ofrece múltiples canales de atención al cliente: una línea telefónica gratuita (0800-TECNO-VERDE) disponible 24/7, correo electrónico (soporte@technoverde.com), chat en vivo en su sitio web (www.technoverde.com), redes sociales (@TechnoVerdeOficial en Facebook, Twitter e Instagram), y atención presencial en sus tiendas de lunes a sábado de 9:00 a 20:00.\"},\n",
    "        {\"response\": \"Según la política de atención al cliente de TechnoVerde, el tiempo de respuesta objetivo para los correos electrónicos es de menos de 4 horas hábiles.\"},\n",
    "        {\"response\": \"De acuerdo con la política de reembolsos y devoluciones de TechnoVerde, los clientes pueden devolver productos no utilizados dentro de los 30 días posteriores a la compra para obtener un reembolso completo o un cambio.\"},\n",
    "        {\"response\": \"Todos los productos TechnoVerde están cubiertos por una garantía mínima de 2 años. Algunos productos premium tienen garantías extendidas de hasta 5 años. Además, la empresa ofrece soporte técnico gratuito durante toda la vida útil del producto.\"},\n",
    "        {\"response\": \"El programa de lealtad de TechnoVerde funciona de la siguiente manera: los clientes son automáticamente inscritos al realizar su primera compra, ganan 1 punto por cada $10 gastados, y hay cuatro niveles de membresía (Verde, Plata, Oro y Platino) con beneficios crecientes. Los beneficios incluyen acceso anticipado a nuevos productos, invitaciones a eventos exclusivos y descuentos especiales.\"},\n",
    "        {\"response\": \"TechnoVerde toma varias medidas para proteger los datos de los clientes. Solo recopilan los datos necesarios para proporcionar sus servicios y mejorar la experiencia del cliente. Todos los datos se almacenan de forma segura en servidores encriptados y se implementan medidas de seguridad de vanguardia para proteger la información contra accesos no autorizados.\"},\n",
    "        {\"response\": \"Los empleados de atención al cliente de TechnoVerde reciben un programa de formación inicial intensivo de 4 semanas que cubre conocimiento de productos y servicios, habilidades de comunicación y resolución de problemas, políticas y procedimientos de la empresa, y uso de sistemas de atención al cliente. Además, se ofrecen programas de formación continua mensuales para mantenerlos actualizados.\"},\n",
    "        {\"response\": \"TechnoVerde mantiene un plan detallado de continuidad del negocio para garantizar la atención al cliente en casos de crisis como desastres naturales, fallos tecnológicos o pandemias. En situaciones de crisis, se comprometen a informar proactivamente a los clientes sobre cualquier interrupción del servicio, proporcionar actualizaciones regulares y ofrecer soluciones alternativas cuando sea posible.\"},\n",
    "        {\"response\": \"TechnoVerde utiliza varias tecnologías innovadoras en su atención al cliente, incluyendo soluciones de Inteligencia Artificial y chatbots para proporcionar respuestas instantáneas y analizar el sentimiento del cliente. También implementan tecnología de Realidad Aumentada (RA) para guiar a los clientes en la instalación y resolución de problemas de productos, así como para proporcionar demostraciones virtuales.\"},\n",
    "        {\"response\": \"TechnoVerde asegura la accesibilidad en su atención al cliente mediante un enfoque de diseño universal. Esto incluye un sitio web y aplicaciones móviles compatibles con lectores de pantalla, opciones de comunicación para clientes con discapacidad auditiva o del habla, y materiales de soporte en múltiples idiomas y formatos. Además, todo el personal de atención al cliente recibe formación regular sobre diversidad e inclusión.\"}\n",
    "    ],\n",
    "    dataset_id=dataset.id\n",
    ")\n"
   ]
  },
  {
   "cell_type": "markdown",
   "metadata": {},
   "source": [
    "#### App"
   ]
  },
  {
   "cell_type": "code",
   "execution_count": null,
   "metadata": {},
   "outputs": [],
   "source": [
    "#AI App\n",
    "\n",
    "from agent import Agent\n",
    "from langchain_chroma import Chroma\n",
    "from tools import create_retriever_tool_from_vectorstore, create_get_client_info_tool\n",
    "from langchain_core.messages import HumanMessage, ToolMessage, AIMessage\n",
    "from langchain_openai import OpenAIEmbeddings\n",
    "persist_directory = \"./chroma_db\"\n",
    "vectorstore = Chroma(\n",
    "    collection_name=\"rag-chroma\",\n",
    "    embedding_function=OpenAIEmbeddings(),\n",
    "    persist_directory=persist_directory\n",
    ")\n",
    "\n",
    "tools = [create_retriever_tool_from_vectorstore(vectorstore), create_get_client_info_tool()]\n",
    "\n",
    "from langchain_core.prompts import ChatPromptTemplate\n",
    "\n",
    "template = ChatPromptTemplate([\n",
    "        (\"system\", \"Sos un asistente que responde preguntas sobre la empresa TechnoVerde S.A. Para preguntas relacionadas a la empresa, responde utilizando la informacion que tenes disponible sobre la misma, no inventes informacion. Si no conoces la respuesta, simplemente decí que no lo sabes y disculpate por no poder ayudar\"),\n",
    "    ])"
   ]
  },
  {
   "cell_type": "code",
   "execution_count": null,
   "metadata": {},
   "outputs": [],
   "source": [
    "def start_conversation(input_dict):\n",
    "    try:\n",
    "        agent = Agent(model_type=\"openai\", prompt=template, tools=tools)\n",
    "        human_message = HumanMessage(content=input_dict['input'])\n",
    "        state = agent.invoke([human_message])\n",
    "        \n",
    "        if isinstance(state, dict) and \"messages\" in state and len(state[\"messages\"]) > 0:\n",
    "            messages = state[\"messages\"]\n",
    "            result = {\"answer\": \"\", \"retrieved_content\": \"\"}\n",
    "            \n",
    "            for message in messages:\n",
    "                if isinstance(message, ToolMessage) and message.name == \"retrieve_company_docs\":\n",
    "                    result[\"retrieved_content\"] = message.content\n",
    "            \n",
    "            last_message = messages[-1]\n",
    "            if isinstance(last_message, AIMessage):\n",
    "                result[\"answer\"] = last_message.content\n",
    "            \n",
    "            return result\n",
    "        \n",
    "        return {\"answer\": \"No AI response found in the state.\", \"retrieved_content\": \"\"}\n",
    "    except Exception as e:\n",
    "        return {\"error\": str(e), \"retrieved_content\": \"\"}"
   ]
  },
  {
   "cell_type": "code",
   "execution_count": null,
   "metadata": {},
   "outputs": [],
   "source": [
    "start_conversation({\"input\": \"Quien es el CEO de TechnoVerde?\"})\n"
   ]
  },
  {
   "cell_type": "markdown",
   "metadata": {},
   "source": [
    "#### Evaluators"
   ]
  },
  {
   "cell_type": "code",
   "execution_count": null,
   "metadata": {},
   "outputs": [],
   "source": [
    "from langsmith.evaluation import LangChainStringEvaluator, evaluate\n",
    "\n",
    "answer_correctness_evaluator = LangChainStringEvaluator(\n",
    "    \"labeled_score_string\",\n",
    "    config={\n",
    "        \"criteria\": {\n",
    "            \"answer_correctness\": \"\"\"Is the Assistant's Answer aligned with the Ground Truth Answer? A score of [[1]] means that the\n",
    "            Assistant answer contains is not at all based upon / grounded in the Groun Truth Answer. A score of [[5]] means \n",
    "            that the Assistant answer contains some information (e.g., a hallucination) that is not captured in the Ground Truth \n",
    "            Answer. A score of [[10]] means that the Assistant answer is fully based upon the in the Ground Truth Answer.\"\"\"\n",
    "        },\n",
    "        # If you want the score to be saved on a scale from 0 to 1\n",
    "        \"normalize_by\": 10,\n",
    "        \"key\": \"answer_correctness\"\n",
    "    },\n",
    "    prepare_data=lambda run, example: {\n",
    "        \"prediction\": run.outputs[\"answer\"],\n",
    "        \"reference\": example.outputs[\"response\"],\n",
    "        \"input\": example.inputs[\"input\"],\n",
    "    },\n",
    ")\n",
    "\n",
    "dataset_name = \"Atencion al cliente\"\n",
    "experiment_results = evaluate(\n",
    "    start_conversation,\n",
    "    data=dataset_name,\n",
    "    evaluators=[answer_correctness_evaluator],\n",
    "    experiment_prefix=\"answer-correctness-gpt-4o\",\n",
    "\n",
    ")\n"
   ]
  },
  {
   "cell_type": "code",
   "execution_count": null,
   "metadata": {},
   "outputs": [],
   "source": [
    "from langsmith.evaluation import LangChainStringEvaluator, evaluate\n",
    "\n",
    "# Evaluator for Document Relevance\n",
    "document_relevance_evaluator = LangChainStringEvaluator(\n",
    "    \"labeled_score_string\",\n",
    "    config={\n",
    "        \"criteria\": {\n",
    "            \"document_relevance\": \"\"\"Evaluates the relevance of retrieved articles in relation to the user query. \n",
    "            A score of [[1]] indicates that the retrieved articles do not make any sense in the context of the user query. \n",
    "            A score of [[5]] means the retrieved articles are somewhat relevant but miss key elements related to the query. \n",
    "            A score of [[10]] shows that the retrieved articles are highly relevant and fully address the user query.\"\"\"\n",
    "        },\n",
    "        \"normalize_by\": 10,\n",
    "    },\n",
    "    prepare_data=lambda run, example: {\n",
    "        \"prediction\": run.outputs[\"retrieved_content\"],  # Retrieved context from your function\n",
    "        \"reference\": example.outputs[\"response\"],  # Ground truth response\n",
    "        \"input\": example.inputs[\"input\"],\n",
    "    },\n",
    ")\n",
    "\n",
    "dataset_name = \"Atencion al cliente\"\n",
    "experiment_results = evaluate(\n",
    "    start_conversation,\n",
    "    data=dataset_name,\n",
    "    evaluators=[document_relevance_evaluator],\n",
    "    experiment_prefix=\"RAG-document-relevance-gpt-4o\",\n",
    "\n",
    ")\n"
   ]
  },
  {
   "cell_type": "markdown",
   "metadata": {},
   "source": [
    "### 2. Evaluando el llamado a la tool de informacion del cliente (Programmatic evaluator)"
   ]
  },
  {
   "cell_type": "markdown",
   "metadata": {},
   "source": [
    "#### Dataset"
   ]
  },
  {
   "cell_type": "code",
   "execution_count": null,
   "metadata": {},
   "outputs": [],
   "source": [
    "dataset = client.create_dataset(\n",
    "    \"Llamado a la tool de informacion del cliente\",\n",
    "    description=\"Un dataset para evaluar el lamado a la tool de informacion del cliente con los args correctos\"\n",
    ")"
   ]
  },
  {
   "cell_type": "code",
   "execution_count": null,
   "metadata": {},
   "outputs": [],
   "source": [
    "#Data sintetica creada con Claude 3.5 Sonnet - Corregir los outputs para que sean los correctos\n",
    "\n",
    "client.create_examples(\n",
    "    inputs=[\n",
    "        {\"input\": \"Hola, necesito consultar mi información de cuenta. Mi número de cliente es TV001. ¿Me podrías ayudar?\"},\n",
    "        {\"input\": \"Buenas, creo que mi ID es algo así como TV cero cero dos, ¿podrías verificar mi cuenta?\"},\n",
    "        {\"input\": \"Hola, soy Ana Martínez y quisiera saber mi puntuación de sostenibilidad. No recuerdo mi ID de cliente.\"},\n",
    "        {\"input\": \"Necesito ayuda con mi cuenta, mi ID es TV004.\"},\n",
    "        {\"input\": \"Hola, instalé paneles solares y un termostato inteligente con ustedes. ¿Podrían decirme mi saldo y puntuación de sostenibilidad? Creo que mi ID es TV001.\"},\n",
    "        {\"input\": \"¿Qué tal? Quiero checar mi cuenta pero no recuerdo mi número de cliente. Soy Carlos de Green Business.\"},\n",
    "        {\"input\": \"Hola, mi ID de cliente es TV cero cero... creo que tres. Necesito mi información de cuenta.\"},\n",
    "        {\"input\": \"Necesito asistencia, mi número de cliente es TB002.\"},\n",
    "        {\"input\": \"Hola, soy María González. Instalé paneles solares y un termostato inteligente el año pasado. Quisiera saber mi saldo actual y mi puntuación de sostenibilidad. Mi ID debería ser TV001.\"},\n",
    "        {\"input\": \"Estoy tratando de hacer un seguimiento de mi impacto ambiental. Creo que mi número de cliente es el mismo que usé para instalar el sistema de conservación de agua y el cargador de vehículos eléctricos. ¿Podrías ayudarme a encontrar mi información?\"}\n",
    "    ],\n",
    "    outputs=[\n",
    "        {\"tool\": \"get_client_info\", \"args\": {\"client_id\": \"TV001\"}},\n",
    "        {\"tool\": \"get_client_info\", \"args\": {\"client_id\": \"TV002\"}},\n",
    "        {\"tool\": \"get_client_info\", \"args\": {\"client_id\": \"TV003\"}},\n",
    "        {\"tool\": \"get_client_info\", \"args\": {\"client_id\": \"TV002\"}},\n",
    "        {\"tool\": \"get_client_info\", \"args\": {\"client_id\": \"TV001\"}},\n",
    "        {\"tool\": \"get_client_info\", \"args\": {\"client_id\": \"TV002\"}},\n",
    "        {\"tool\": \"get_client_info\", \"args\": {\"client_id\": \"TV003\"}},\n",
    "        {\"tool\": \"get_client_info\", \"args\": {\"client_id\": \"TV002\"}},\n",
    "        {\"tool\": \"get_client_info\", \"args\": {\"client_id\": \"TV001\"}},\n",
    "        {\"tool\": \"get_client_info\", \"args\": {\"client_id\": \"TV003\"}}\n",
    "    ],\n",
    "    dataset_id=dataset.id\n",
    ")"
   ]
  },
  {
   "cell_type": "markdown",
   "metadata": {},
   "source": [
    "#### App"
   ]
  },
  {
   "cell_type": "code",
   "execution_count": null,
   "metadata": {},
   "outputs": [],
   "source": [
    "#AI App\n",
    "\n",
    "from agent import Agent\n",
    "from langchain_chroma import Chroma\n",
    "from tools import create_retriever_tool_from_vectorstore, create_get_client_info_tool\n",
    "from langchain_core.messages import HumanMessage, ToolMessage, AIMessage\n",
    "from langchain_openai import OpenAIEmbeddings\n",
    "persist_directory = \"./chroma_db\"\n",
    "vectorstore = Chroma(\n",
    "    collection_name=\"rag-chroma\",\n",
    "    embedding_function=OpenAIEmbeddings(),\n",
    "    persist_directory=persist_directory\n",
    ")\n",
    "\n",
    "tools = [create_retriever_tool_from_vectorstore(vectorstore), create_get_client_info_tool()]\n",
    "\n",
    "from langchain_core.prompts import ChatPromptTemplate\n",
    "\n",
    "template = ChatPromptTemplate([\n",
    "        (\"system\", \"Sos un asistente que responde preguntas sobre la empresa TechnoVerde S.A. Para preguntas relacionadas a la empresa, responde utilizando la informacion que tenes disponible sobre la misma, no inventes informacion. Si no conoces la respuesta, simplemente decí que no lo sabes y disculpate por no poder ayudar\"),\n",
    "    ])"
   ]
  },
  {
   "cell_type": "code",
   "execution_count": null,
   "metadata": {},
   "outputs": [],
   "source": [
    "def get_client_info_used(input_dict):\n",
    "    try:\n",
    "        agent = Agent(model_type=\"openai\", prompt=template, tools=tools)\n",
    "        human_message = HumanMessage(content=input_dict['input'])\n",
    "        state = agent.invoke([human_message])\n",
    "\n",
    "        if isinstance(state, dict) and \"messages\" in state and len(state[\"messages\"]) > 0:\n",
    "            messages = state[\"messages\"]\n",
    "\n",
    "            # Buscar en los mensajes si hay un ToolMessage con name 'get_client_info'\n",
    "            for message in messages:\n",
    "                if isinstance(message, ToolMessage) and message.name == 'get_client_info':\n",
    "                    # Obtener el ID de la llamada a la herramienta\n",
    "                    tool_call_id = message.tool_call_id\n",
    "\n",
    "                    # Buscar en los mensajes anteriores el AIMessage que hizo la llamada a la herramienta\n",
    "                    for prior_message in messages:\n",
    "                        if isinstance(prior_message, AIMessage) and hasattr(prior_message, 'tool_calls'):\n",
    "                            for tool_call in prior_message.tool_calls:\n",
    "                                if (tool_call['id'] == tool_call_id) and (tool_call['name'] == 'get_client_info'):\n",
    "                                    return {\n",
    "                                        \"tool\": \"get_client_info\",\n",
    "                                        \"args\": tool_call['args']\n",
    "                                    }\n",
    "\n",
    "            # Si no se encontró un ToolMessage con name 'get_client_info'\n",
    "            return {\"error\": \"No se encontró un 'ToolMessage' con name 'get_client_info' en el estado.\"}\n",
    "        else:\n",
    "            return {\"error\": \"No se encontraron mensajes en el estado.\"}\n",
    "    except Exception as e:\n",
    "        return {\"error\": str(e)}"
   ]
  },
  {
   "cell_type": "code",
   "execution_count": null,
   "metadata": {},
   "outputs": [],
   "source": [
    "get_client_info_used({\"input\": \"Hola, necesito consultar mi información de cuenta. Mi número de cliente es TV001. ¿Me podrías ayudar?\"})"
   ]
  },
  {
   "cell_type": "markdown",
   "metadata": {},
   "source": [
    "#### Evaluator"
   ]
  },
  {
   "cell_type": "code",
   "execution_count": null,
   "metadata": {},
   "outputs": [],
   "source": [
    "# Custom evaluator\n",
    "def compare_tool_calls(run: Run, example: Example) -> dict:\n",
    "    expected_dict = example.outputs\n",
    "    returned_dict = run.outputs\n",
    "    \n",
    "    is_match = expected_dict == returned_dict\n",
    "    \n",
    "    if is_match:\n",
    "        return {\"key\": \"vault_map_match\", \"score\": 1, \"comment\": \"Maps match exactly\"}\n",
    "    else:\n",
    "        mismatches = []\n",
    "        for key in set(expected_dict.keys()) | set(returned_dict.keys()):\n",
    "            if key not in expected_dict:\n",
    "                mismatches.append(f\"Unexpected key in returned map: {key}\")\n",
    "            elif key not in returned_dict:\n",
    "                mismatches.append(f\"Missing key in returned map: {key}\")\n",
    "            elif expected_dict[key] != returned_dict[key]:\n",
    "                mismatches.append(f\"Mismatch for key {key}: Expected {expected_dict[key]}, Got {returned_dict[key]}\")\n",
    "        \n",
    "        return {\n",
    "            \"key\": \"vault_map_match\", \n",
    "            \"score\": 0, \n",
    "            \"comment\": \"Maps do not match. Mismatches: \" + \"; \".join(mismatches)\n",
    "        }\n"
   ]
  },
  {
   "cell_type": "code",
   "execution_count": null,
   "metadata": {},
   "outputs": [],
   "source": [
    "dataset_name = \"Llamado a la tool de informacion del cliente\"\n",
    "experiment_results = evaluate(\n",
    "    get_client_info_used,\n",
    "    data=dataset_name,\n",
    "    evaluators=[compare_tool_calls],\n",
    "    experiment_prefix=\"compare-tool-calls-gpt-4o\",\n",
    "\n",
    ")"
   ]
  }
 ],
 "metadata": {
  "kernelspec": {
   "display_name": "easy-lang-env",
   "language": "python",
   "name": "python3"
  },
  "language_info": {
   "codemirror_mode": {
    "name": "ipython",
    "version": 3
   },
   "file_extension": ".py",
   "mimetype": "text/x-python",
   "name": "python",
   "nbconvert_exporter": "python",
   "pygments_lexer": "ipython3",
   "version": "3.11.0"
  }
 },
 "nbformat": 4,
 "nbformat_minor": 2
}
