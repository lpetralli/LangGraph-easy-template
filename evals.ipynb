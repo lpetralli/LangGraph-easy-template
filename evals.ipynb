{
 "cells": [
  {
   "cell_type": "code",
   "execution_count": 1,
   "metadata": {},
   "outputs": [],
   "source": [
    "from langsmith import Client\n",
    "from langsmith.evaluation import evaluate\n",
    "from langsmith.schemas import Example, Run\n",
    "\n",
    "# Initialize LangSmith client\n",
    "client = Client()"
   ]
  },
  {
   "cell_type": "code",
   "execution_count": null,
   "metadata": {},
   "outputs": [],
   "source": [
    "dataset = client.create_dataset(\n",
    "    \"Customer Support RAG Dataset\",\n",
    "    description=\"A dataset for evaluating RAG performance in customer support scenarios\"\n",
    ")"
   ]
  },
  {
   "cell_type": "code",
   "execution_count": null,
   "metadata": {},
   "outputs": [],
   "source": [
    "client.create_examples(\n",
    "    inputs=[\n",
    "        {\"input\": \"¿Cuáles son los canales de atención al cliente que ofrece TechnoVerde?\"},\n",
    "        {\"input\": \"¿Cuál es el tiempo de respuesta objetivo para los correos electrónicos?\"},\n",
    "        {\"input\": \"¿Cuánto tiempo tengo para devolver un producto?\"},\n",
    "        {\"input\": \"¿Qué cubre la garantía de los productos TechnoVerde?\"},\n",
    "        {\"input\": \"¿Cómo funciona el programa de lealtad de TechnoVerde?\"},\n",
    "        {\"input\": \"¿Qué medidas toma TechnoVerde para proteger los datos de los clientes?\"},\n",
    "        {\"input\": \"¿Qué tipo de formación reciben los empleados de atención al cliente?\"},\n",
    "        {\"input\": \"¿Cómo maneja TechnoVerde las situaciones de crisis?\"},\n",
    "        {\"input\": \"¿Qué tecnologías innovadoras utiliza TechnoVerde en su atención al cliente?\"},\n",
    "        {\"input\": \"¿Cómo asegura TechnoVerde la accesibilidad en su atención al cliente?\"}\n",
    "    ],\n",
    "    outputs=[\n",
    "        {\"response\": \"TechnoVerde S.A. ofrece múltiples canales de atención al cliente: una línea telefónica gratuita (0800-TECNO-VERDE) disponible 24/7, correo electrónico (soporte@technoverde.com), chat en vivo en su sitio web (www.technoverde.com), redes sociales (@TechnoVerdeOficial en Facebook, Twitter e Instagram), y atención presencial en sus tiendas de lunes a sábado de 9:00 a 20:00.\"},\n",
    "        {\"response\": \"Según la política de atención al cliente de TechnoVerde, el tiempo de respuesta objetivo para los correos electrónicos es de menos de 4 horas hábiles.\"},\n",
    "        {\"response\": \"De acuerdo con la política de reembolsos y devoluciones de TechnoVerde, los clientes pueden devolver productos no utilizados dentro de los 30 días posteriores a la compra para obtener un reembolso completo o un cambio.\"},\n",
    "        {\"response\": \"Todos los productos TechnoVerde están cubiertos por una garantía mínima de 2 años. Algunos productos premium tienen garantías extendidas de hasta 5 años. Además, la empresa ofrece soporte técnico gratuito durante toda la vida útil del producto.\"},\n",
    "        {\"response\": \"El programa de lealtad de TechnoVerde funciona de la siguiente manera: los clientes son automáticamente inscritos al realizar su primera compra, ganan 1 punto por cada $10 gastados, y hay cuatro niveles de membresía (Verde, Plata, Oro y Platino) con beneficios crecientes. Los beneficios incluyen acceso anticipado a nuevos productos, invitaciones a eventos exclusivos y descuentos especiales.\"},\n",
    "        {\"response\": \"TechnoVerde toma varias medidas para proteger los datos de los clientes. Solo recopilan los datos necesarios para proporcionar sus servicios y mejorar la experiencia del cliente. Todos los datos se almacenan de forma segura en servidores encriptados y se implementan medidas de seguridad de vanguardia para proteger la información contra accesos no autorizados.\"},\n",
    "        {\"response\": \"Los empleados de atención al cliente de TechnoVerde reciben un programa de formación inicial intensivo de 4 semanas que cubre conocimiento de productos y servicios, habilidades de comunicación y resolución de problemas, políticas y procedimientos de la empresa, y uso de sistemas de atención al cliente. Además, se ofrecen programas de formación continua mensuales para mantenerlos actualizados.\"},\n",
    "        {\"response\": \"TechnoVerde mantiene un plan detallado de continuidad del negocio para garantizar la atención al cliente en casos de crisis como desastres naturales, fallos tecnológicos o pandemias. En situaciones de crisis, se comprometen a informar proactivamente a los clientes sobre cualquier interrupción del servicio, proporcionar actualizaciones regulares y ofrecer soluciones alternativas cuando sea posible.\"},\n",
    "        {\"response\": \"TechnoVerde utiliza varias tecnologías innovadoras en su atención al cliente, incluyendo soluciones de Inteligencia Artificial y chatbots para proporcionar respuestas instantáneas y analizar el sentimiento del cliente. También implementan tecnología de Realidad Aumentada (RA) para guiar a los clientes en la instalación y resolución de problemas de productos, así como para proporcionar demostraciones virtuales.\"},\n",
    "        {\"response\": \"TechnoVerde asegura la accesibilidad en su atención al cliente mediante un enfoque de diseño universal. Esto incluye un sitio web y aplicaciones móviles compatibles con lectores de pantalla, opciones de comunicación para clientes con discapacidad auditiva o del habla, y materiales de soporte en múltiples idiomas y formatos. Además, todo el personal de atención al cliente recibe formación regular sobre diversidad e inclusión.\"}\n",
    "    ],\n",
    "    dataset_id=dataset.id\n",
    ")"
   ]
  },
  {
   "cell_type": "code",
   "execution_count": 3,
   "metadata": {},
   "outputs": [
    {
     "data": {
      "text/plain": [
       "{'answer': 'Buenas tardes. ¿En qué puedo ayudarte hoy?'}"
      ]
     },
     "execution_count": 3,
     "metadata": {},
     "output_type": "execute_result"
    }
   ],
   "source": [
    "#AI App\n",
    "\n",
    "from agent import Agent\n",
    "from langchain_chroma import Chroma\n",
    "from tools import create_retriever_tool_from_vectorstore\n",
    "from langchain_core.messages import HumanMessage\n",
    "from langchain_openai import OpenAIEmbeddings\n",
    "from langchain_core.messages import AIMessage\n",
    "persist_directory = \"./chroma_db\"\n",
    "vectorstore = Chroma(\n",
    "    collection_name=\"rag-chroma\",\n",
    "    embedding_function=OpenAIEmbeddings(),\n",
    "    persist_directory=persist_directory\n",
    ")\n",
    "\n",
    "tools = [create_retriever_tool_from_vectorstore(vectorstore)]\n",
    "\n",
    "\n",
    "def start_conversation(input_dict):\n",
    "    try:\n",
    "        agent = Agent(model_type=\"groq\", tools=tools)\n",
    "        human_message = HumanMessage(content=input_dict['input'])\n",
    "        state = agent.invoke([human_message])\n",
    "        \n",
    "        if isinstance(state, list) and len(state) > 0 and isinstance(state[-1], AIMessage):\n",
    "            return {\"answer\": state[-1].content}\n",
    "        else:\n",
    "            return {\"answer\": \"No AI response found in the state.\"}\n",
    "    except Exception as e:\n",
    "        return {\"error\": str(e)}\n",
    "\n",
    "# Example usage\n",
    "result = start_conversation({'input': 'Buenas tardes'})\n",
    "result"
   ]
  },
  {
   "cell_type": "code",
   "execution_count": 4,
   "metadata": {},
   "outputs": [
    {
     "name": "stdout",
     "output_type": "stream",
     "text": [
      "View the evaluation results for experiment: 'rag-answer-correctness-llama-621dcdd1' at:\n",
      "https://smith.langchain.com/o/e78e2c5a-05c5-5edd-a70a-d8f4dd524804/datasets/46e63ba0-3af3-4fbb-98b8-4c7555c9968c/compare?selectedSessions=425c9665-9ae7-46f5-9394-ffb3b2fc22fc\n",
      "\n",
      "\n"
     ]
    },
    {
     "name": "stderr",
     "output_type": "stream",
     "text": [
      "1it [00:23, 23.76s/it]Error running evaluator <DynamicRunEvaluator evaluate> on run 6116b112-d256-4411-b92d-32331e380dc0: KeyError('answer')\n",
      "Traceback (most recent call last):\n",
      "  File \"/Users/lucaspetralli/Documents/LangGraph-easy-template/easy-lang-env/lib/python3.11/site-packages/langsmith/evaluation/_runner.py\", line 1321, in _run_evaluators\n",
      "    evaluator_response = evaluator.evaluate_run(\n",
      "                         ^^^^^^^^^^^^^^^^^^^^^^^\n",
      "  File \"/Users/lucaspetralli/Documents/LangGraph-easy-template/easy-lang-env/lib/python3.11/site-packages/langsmith/evaluation/evaluator.py\", line 278, in evaluate_run\n",
      "    result = self.func(\n",
      "             ^^^^^^^^^^\n",
      "  File \"/Users/lucaspetralli/Documents/LangGraph-easy-template/easy-lang-env/lib/python3.11/site-packages/langsmith/run_helpers.py\", line 609, in wrapper\n",
      "    raise e\n",
      "  File \"/Users/lucaspetralli/Documents/LangGraph-easy-template/easy-lang-env/lib/python3.11/site-packages/langsmith/run_helpers.py\", line 606, in wrapper\n",
      "    function_result = run_container[\"context\"].run(func, *args, **kwargs)\n",
      "                      ^^^^^^^^^^^^^^^^^^^^^^^^^^^^^^^^^^^^^^^^^^^^^^^^^^^\n",
      "  File \"/Users/lucaspetralli/Documents/LangGraph-easy-template/easy-lang-env/lib/python3.11/site-packages/langsmith/evaluation/integrations/_langchain.py\", line 258, in evaluate\n",
      "    else self._prepare_data(run, example)\n",
      "         ^^^^^^^^^^^^^^^^^^^^^^^^^^^^^^^^\n",
      "  File \"/var/folders/rp/xljb29z106q234vm8vspclp00000gn/T/ipykernel_10969/2294452284.py\", line 17, in <lambda>\n",
      "    \"prediction\": run.outputs[\"answer\"],\n",
      "                  ~~~~~~~~~~~^^^^^^^^^^\n",
      "KeyError: 'answer'\n",
      "10it [00:24,  2.40s/it]\n"
     ]
    }
   ],
   "source": [
    "from langsmith.evaluation import LangChainStringEvaluator, evaluate\n",
    "\n",
    "answer_correctness_evaluator = LangChainStringEvaluator(\n",
    "    \"labeled_score_string\",\n",
    "    config={\n",
    "        \"criteria\": {\n",
    "            \"answer_correctness\": \"\"\"Is the Assistant's Answer aligned with the Ground Truth Answer? A score of [[1]] means that the\n",
    "            Assistant answer contains is not at all based upon / grounded in the Groun Truth Answer. A score of [[5]] means \n",
    "            that the Assistant answer contains some information (e.g., a hallucination) that is not captured in the Ground Truth \n",
    "            Answer. A score of [[10]] means that the Assistant answer is fully based upon the in the Ground Truth Answer.\"\"\"\n",
    "        },\n",
    "        # If you want the score to be saved on a scale from 0 to 1\n",
    "        \"normalize_by\": 10,\n",
    "        \"key\": \"answer_correctness\"\n",
    "    },\n",
    "    prepare_data=lambda run, example: {\n",
    "        \"prediction\": run.outputs[\"answer\"],\n",
    "        \"reference\": example.outputs[\"response\"],\n",
    "        \"input\": example.inputs[\"input\"],\n",
    "    },\n",
    ")\n",
    "\n",
    "dataset_name = \"Customer Support RAG Dataset\"\n",
    "experiment_results = evaluate(\n",
    "    start_conversation,\n",
    "    data=dataset_name,\n",
    "    evaluators=[answer_correctness_evaluator],\n",
    "    experiment_prefix=\"rag-answer-correctness-llama\",\n",
    "\n",
    ")"
   ]
  }
 ],
 "metadata": {
  "kernelspec": {
   "display_name": "easy-lang-env",
   "language": "python",
   "name": "python3"
  },
  "language_info": {
   "codemirror_mode": {
    "name": "ipython",
    "version": 3
   },
   "file_extension": ".py",
   "mimetype": "text/x-python",
   "name": "python",
   "nbconvert_exporter": "python",
   "pygments_lexer": "ipython3",
   "version": "3.11.0"
  }
 },
 "nbformat": 4,
 "nbformat_minor": 2
}
