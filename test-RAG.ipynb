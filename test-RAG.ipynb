{
 "cells": [
  {
   "cell_type": "code",
   "execution_count": null,
   "metadata": {},
   "outputs": [],
   "source": [
    "from dotenv import load_dotenv\n",
    "import os\n",
    "\n",
    "# Load environment variables from .env file\n",
    "load_dotenv()\n",
    "\n",
    "# Now you can access environment variables using os.getenv()\n",
    "# For example:\n",
    "# api_key = os.getenv(\"OPENAI_API_KEY\")"
   ]
  },
  {
   "cell_type": "code",
   "execution_count": 1,
   "metadata": {},
   "outputs": [],
   "source": [
    "import os\n",
    "from langchain_community.document_loaders import PyPDFLoader\n",
    "from langchain.text_splitter import RecursiveCharacterTextSplitter\n",
    "from langchain_openai import OpenAIEmbeddings\n",
    "\n",
    "# Define the path to your PDF files\n",
    "pdf_dir = \"./docs\"  # Cambia esto al directorio donde tienes tus PDFs\n",
    "\n",
    "# Load PDF documents\n",
    "pdf_files = [os.path.join(pdf_dir, file) for file in os.listdir(pdf_dir) if file.endswith(\".pdf\")]\n",
    "docs = [PyPDFLoader(pdf).load() for pdf in pdf_files]\n",
    "\n",
    "# Convert list of lists to a single list of documents\n",
    "docs_list = [item for sublist in docs for item in sublist]"
   ]
  },
  {
   "cell_type": "code",
   "execution_count": 3,
   "metadata": {},
   "outputs": [],
   "source": [
    "# Split documents into chunks\n",
    "text_splitter = RecursiveCharacterTextSplitter(chunk_size=200, chunk_overlap=100)\n",
    "doc_splits = text_splitter.split_documents(docs_list) "
   ]
  },
  {
   "cell_type": "code",
   "execution_count": 4,
   "metadata": {},
   "outputs": [
    {
     "data": {
      "text/plain": [
       "105"
      ]
     },
     "execution_count": 4,
     "metadata": {},
     "output_type": "execute_result"
    }
   ],
   "source": [
    "len(doc_splits)"
   ]
  },
  {
   "cell_type": "code",
   "execution_count": 5,
   "metadata": {},
   "outputs": [],
   "source": [
    "from langchain_community.vectorstores import Chroma\n",
    "\n",
    "# Define el directorio donde se almacenará la base de datos\n",
    "persist_directory = \"./chroma_db\"  # Puedes cambiar esto al directorio que prefieras\n",
    "\n",
    "# Crear la base de datos de vectores local\n",
    "vectorstore = Chroma.from_documents(\n",
    "    documents=doc_splits,\n",
    "    collection_name=\"rag-chroma\",\n",
    "    embedding=OpenAIEmbeddings(),\n",
    "    persist_directory=persist_directory  # Especifica el directorio de persistencia\n",
    ")\n",
    "\n",
    "# # Cargar la base de datos de vectores desde el directorio local\n",
    "# vectorstore = Chroma(\n",
    "#     collection_name=\"rag-chroma\",\n",
    "#     embedding=OpenAIEmbeddings(),\n",
    "#     persist_directory=persist_directory  # Especifica el directorio de persistencia\n",
    "# )"
   ]
  },
  {
   "cell_type": "code",
   "execution_count": 6,
   "metadata": {},
   "outputs": [],
   "source": [
    "retriever = vectorstore.as_retriever()\n",
    "\n",
    "from langchain.tools.retriever import create_retriever_tool\n",
    "\n",
    "retriever_tool = create_retriever_tool(\n",
    "    retriever,\n",
    "    \"retrieve_company_docs\",\n",
    "    \"Search and return information about the company documents\",\n",
    ")"
   ]
  },
  {
   "cell_type": "code",
   "execution_count": 8,
   "metadata": {},
   "outputs": [
    {
     "data": {
      "text/plain": [
       "[Document(metadata={'page': 0, 'source': './docs/Politica Atencion Cliente.pdf'}, page_content='S.A.\\n1. Introducción\\nT echnoV erde S.A. es una empresa líder en soluciones tecnológicas sostenibles\\npara hogares y empresas. Nuestro compromiso con la excelencia en el servicio'),\n",
       " Document(metadata={'page': 0, 'source': './docs/Politica Atencion Cliente.pdf'}, page_content='para hogares y empresas. Nuestro compromiso con la excelencia en el servicio\\nal cliente es fundamental para nuestra misión de crear un futuro más verde'),\n",
       " Document(metadata={'page': 0, 'source': './docs/Politica Atencion Cliente.pdf'}, page_content='Política de Atención al Cliente - T echnoV erde\\nS.A.\\n1. Introducción\\nT echnoV erde S.A. es una empresa líder en soluciones tecnológicas sostenibles'),\n",
       " Document(metadata={'page': 3, 'source': './docs/Politica Atencion Cliente.pdf'}, page_content='T odos los nuevos empleados de atención al cliente reciben un programa de forma-\\nción intensivo de 4 semanas que cubre: - Conocimiento profundo de productos')]"
      ]
     },
     "execution_count": 8,
     "metadata": {},
     "output_type": "execute_result"
    }
   ],
   "source": [
    "question = \"Como se llama la empresa?\"\n",
    "documents = retriever.invoke(question)\n",
    "documents"
   ]
  }
 ],
 "metadata": {
  "kernelspec": {
   "display_name": "easy-lang-env",
   "language": "python",
   "name": "python3"
  },
  "language_info": {
   "codemirror_mode": {
    "name": "ipython",
    "version": 3
   },
   "file_extension": ".py",
   "mimetype": "text/x-python",
   "name": "python",
   "nbconvert_exporter": "python",
   "pygments_lexer": "ipython3",
   "version": "3.11.0"
  }
 },
 "nbformat": 4,
 "nbformat_minor": 2
}
